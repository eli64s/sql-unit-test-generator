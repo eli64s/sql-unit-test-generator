{
 "cells": [
  {
   "cell_type": "code",
   "execution_count": 4,
   "metadata": {},
   "outputs": [
    {
     "name": "stdout",
     "output_type": "stream",
     "text": [
      "   loan_id     applicant_name  applicant_age  loan_amount  loan_duration  \\\n",
      "0        1     Cynthia Gamble             39       368128             52   \n",
      "1        2      Clinton Munoz             54       277424             55   \n",
      "2        3   Felicia Matthews             54       411966             15   \n",
      "3        4     Holly Browning             59       205487             36   \n",
      "4        5  Felicia Carpenter             50       109983             29   \n",
      "\n",
      "   interest_rate application_date loan_type  \n",
      "0           7.90       2023-05-12      Auto  \n",
      "1           4.60       2021-06-18      Home  \n",
      "2          14.15       2022-08-26  Personal  \n",
      "3           7.14       2020-03-16      Home  \n",
      "4           2.00       2023-05-03  Personal  \n"
     ]
    }
   ],
   "source": [
    "import pandas as pd\n",
    "from faker import Faker\n",
    "\n",
    "# Initialize faker\n",
    "fake = Faker()\n",
    "\n",
    "# Number of rows\n",
    "num_rows = 500\n",
    "\n",
    "# Generate the data\n",
    "data = {\n",
    "    \"loan_id\": range(1, num_rows + 1),\n",
    "    \"applicant_name\": [fake.name() for _ in range(num_rows)],\n",
    "    \"applicant_age\": [\n",
    "        fake.random_int(min=20, max=60) for _ in range(num_rows)\n",
    "    ],\n",
    "    \"loan_amount\": [fake.random_number(digits=6) for _ in range(num_rows)],\n",
    "    \"loan_duration\": [\n",
    "        fake.random_int(min=12, max=60) for _ in range(num_rows)\n",
    "    ],  # 12 to 60 months\n",
    "    \"interest_rate\": [\n",
    "        fake.pyfloat(\n",
    "            left_digits=2,\n",
    "            right_digits=2,\n",
    "            positive=True,\n",
    "            min_value=2.0,\n",
    "            max_value=15.0,\n",
    "        )\n",
    "        for _ in range(num_rows)\n",
    "    ],  # 2% to 15%\n",
    "    \"application_date\": [fake.date_this_decade() for _ in range(num_rows)],\n",
    "    \"loan_type\": [\n",
    "        fake.random_element(elements=(\"Home\", \"Auto\", \"Personal\"))\n",
    "        for _ in range(num_rows)\n",
    "    ],\n",
    "}\n",
    "\n",
    "# Convert to DataFrame\n",
    "df_loans = pd.DataFrame(data)\n",
    "\n",
    "# Display a sample of the data\n",
    "print(df_loans.head())\n",
    "df_loans.to_csv(\"loans_dataset.csv\", index=False)"
   ]
  },
  {
   "cell_type": "code",
   "execution_count": 3,
   "metadata": {},
   "outputs": [
    {
     "data": {
      "text/plain": [
       "'clerk'"
      ]
     },
     "execution_count": 3,
     "metadata": {},
     "output_type": "execute_result"
    }
   ],
   "source": [
    "from faker import Faker\n",
    "from faker.providers import DynamicProvider\n",
    "\n",
    "medical_professions_provider = DynamicProvider(\n",
    "    provider_name=\"medical_profession\",\n",
    "    elements=[\"dr.\", \"doctor\", \"nurse\", \"surgeon\", \"clerk\"],\n",
    ")\n",
    "\n",
    "fake = Faker()\n",
    "\n",
    "# then add new provider to faker instance\n",
    "fake.add_provider(medical_professions_provider)\n",
    "\n",
    "\n",
    "fake.medical_profession()"
   ]
  },
  {
   "cell_type": "code",
   "execution_count": 4,
   "metadata": {},
   "outputs": [
    {
     "name": "stdout",
     "output_type": "stream",
     "text": [
      "   id  customer_id  waiter_id             start_ts               end_ts  \\\n",
      "0   1           99          3  2023-10-19T10:42:15  2023-10-20T06:12:15   \n",
      "1   2           14          5  2023-10-11T23:56:38  2023-10-12T00:49:38   \n",
      "2   3           96          8  2023-10-17T21:04:39  2023-10-18T05:02:39   \n",
      "3   4           61          5  2023-10-06T06:17:55  2023-10-07T04:08:55   \n",
      "4   5           21          6  2023-10-17T07:56:00  2023-10-17T16:01:00   \n",
      "\n",
      "         di  \n",
      "0  20231019  \n",
      "1  20231011  \n",
      "2  20231017  \n",
      "3  20231006  \n",
      "4  20231017  \n"
     ]
    }
   ],
   "source": [
    "from faker import Faker\n",
    "import random\n",
    "import pandas as pd\n",
    "from datetime import datetime, timedelta\n",
    "\n",
    "fake = Faker()\n",
    "\n",
    "# Number of records to generate\n",
    "N = 1000\n",
    "\n",
    "# Generate data\n",
    "data = {\n",
    "    \"id\": [i for i in range(1, N + 1)],\n",
    "    \"customer_id\": [\n",
    "        random.randint(1, 100) for _ in range(N)\n",
    "    ],  # Assuming 100 different customers\n",
    "    \"waiter_id\": [\n",
    "        random.randint(1, 10) for _ in range(N)\n",
    "    ],  # Assuming 10 different waiters\n",
    "    \"start_ts\": [],\n",
    "    \"end_ts\": [],\n",
    "    \"di\": [],\n",
    "}\n",
    "\n",
    "# Generating random timestamps for start_ts and end_ts, and converting them to di (date of order in '%Y%m%d' format)\n",
    "for _ in range(N):\n",
    "    start = fake.date_time_this_month()\n",
    "    end = start + timedelta(minutes=fake.random_int(min=1, max=1440))\n",
    "    data[\"start_ts\"].append(start.strftime(\"%Y-%m-%dT%H:%M:%S\"))\n",
    "    data[\"end_ts\"].append(end.strftime(\"%Y-%m-%dT%H:%M:%S\"))\n",
    "    data[\"di\"].append(int(start.strftime(\"%Y%m%d\")))\n",
    "\n",
    "# Convert to DataFrame\n",
    "df = pd.DataFrame(data)\n",
    "\n",
    "print(df.head())\n",
    "df.to_csv(\n",
    "    \"../sql-unit-test-generator/sqlmesh_example/test_data_orders.csv\",\n",
    "    index=False,\n",
    ")"
   ]
  },
  {
   "cell_type": "code",
   "execution_count": null,
   "metadata": {},
   "outputs": [],
   "source": []
  }
 ],
 "metadata": {
  "kernelspec": {
   "display_name": "gx",
   "language": "python",
   "name": "python3"
  },
  "language_info": {
   "codemirror_mode": {
    "name": "ipython",
    "version": 3
   },
   "file_extension": ".py",
   "mimetype": "text/x-python",
   "name": "python",
   "nbconvert_exporter": "python",
   "pygments_lexer": "ipython3",
   "version": "3.10.12"
  }
 },
 "nbformat": 4,
 "nbformat_minor": 2
}
