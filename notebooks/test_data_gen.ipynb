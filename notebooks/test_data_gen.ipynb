{
 "cells": [
  {
   "cell_type": "code",
   "execution_count": null,
   "metadata": {},
   "outputs": [],
   "source": [
    "import pandas as pd\n",
    "from faker import Faker\n",
    "\n",
    "# Initialize faker\n",
    "fake = Faker()\n",
    "\n",
    "# Number of rows\n",
    "num_rows = 1000\n",
    "\n",
    "# Generate the data\n",
    "data = {\n",
    "    'loan_id': range(1, num_rows + 1),\n",
    "    'applicant_name': [fake.name() for _ in range(num_rows)],\n",
    "    'applicant_age': [fake.random_int(min=20, max=60) for _ in range(num_rows)],\n",
    "    'loan_amount': [fake.random_number(digits=6) for _ in range(num_rows)],\n",
    "    'loan_duration': [fake.random_int(min=12, max=60) for _ in range(num_rows)],  # 12 to 60 months\n",
    "    'interest_rate': [fake.pyfloat(left_digits=2, right_digits=2, positive=True, min_value=2.0, max_value=15.0) for _ in range(num_rows)],  # 2% to 15%\n",
    "    'application_date': [fake.date_this_decade() for _ in range(num_rows)],\n",
    "    'loan_type': [fake.random_element(elements=('Home', 'Auto', 'Personal')) for _ in range(num_rows)]\n",
    "}\n",
    "\n",
    "# Convert to DataFrame\n",
    "df_loans = pd.DataFrame(data)\n",
    "\n",
    "# Display a sample of the data\n",
    "print(df_loans.head())\n",
    "df_loans.to_csv('loans_dataset.csv', index=False)\n"
   ]
  }
 ],
 "metadata": {
  "language_info": {
   "name": "python"
  }
 },
 "nbformat": 4,
 "nbformat_minor": 2
}
